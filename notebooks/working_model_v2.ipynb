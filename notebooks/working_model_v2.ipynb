{
 "cells": [
  {
   "cell_type": "markdown",
   "metadata": {},
   "source": [
    "# Imports"
   ]
  },
  {
   "cell_type": "code",
   "execution_count": 43,
   "metadata": {},
   "outputs": [],
   "source": [
    "import os\n",
    "import boto3\n",
    "import pandas as pd\n",
    "import json\n",
    "from botocore import UNSIGNED\n",
    "from botocore.config import Config\n"
   ]
  },
  {
   "cell_type": "markdown",
   "metadata": {},
   "source": [
    "# Load data"
   ]
  },
  {
   "cell_type": "code",
   "execution_count": 26,
   "metadata": {},
   "outputs": [],
   "source": [
    "# set up the S3 client\n",
    "s3 = boto3.client('s3', config=Config(signature_version=UNSIGNED))\n",
    "bucket_name = 'airborne-obj-detection-challenge-training'\n",
    "prefix = 'part1/'\n",
    "\n",
    "# local folder to save the data\n",
    "dataset_folder = '/Users/renatoboemer/code/developer/aot-object-tracking-aws/raw_data/airborne_data'\n",
    "os.makedirs(dataset_folder, exist_ok=True)\n"
   ]
  },
  {
   "cell_type": "code",
   "execution_count": null,
   "metadata": {},
   "outputs": [],
   "source": [
    "# load annotations\n",
    "def download_annotations(bucket, key, local_path):\n",
    "    s3.download_file(bucket, key, local_path)\n",
    "\n",
    "download_annotations(bucket_name, prefix + 'ImageSets/groundtruth.json', os.path.join(dataset_folder, 'groundtruth.json'))\n",
    "download_annotations(bucket_name, prefix + 'ImageSets/valid_encounters_maxRange700_maxGap3_minEncLen30.json', os.path.join(dataset_folder, 'valid_encounters.json'))\n",
    "print(\"Annotations downloaded successfully.\")"
   ]
  },
  {
   "cell_type": "code",
   "execution_count": 42,
   "metadata": {},
   "outputs": [
    {
     "name": "stdout",
     "output_type": "stream",
     "text": [
      "Annotations downloaded successfully.\n"
     ]
    }
   ],
   "source": [
    "def download_annotations(bucket, key, local_path):\n",
    "    s3.download_file(bucket, key, local_path)\n",
    "\n",
    "download_annotations(bucket_name, prefix + 'ImageSets/valid_encounters_maxRange700_maxGap3_minEncLen30.csv', os.path.join(dataset_folder, 'valid_encounters.csv'))\n",
    "print(\"Annotations downloaded successfully.\")"
   ]
  },
  {
   "cell_type": "markdown",
   "metadata": {},
   "source": [
    "## Groundtruth"
   ]
  },
  {
   "cell_type": "code",
   "execution_count": 27,
   "metadata": {},
   "outputs": [
    {
     "name": "stdout",
     "output_type": "stream",
     "text": [
      "dict_keys(['metadata', 'samples'])\n"
     ]
    }
   ],
   "source": [
    "# load and inspect groundtruth.json\n",
    "groundtruth_path = os.path.join(dataset_folder, 'groundtruth.json')\n",
    "with open(groundtruth_path, 'r') as f:\n",
    "    groundtruth_data = json.load(f)\n",
    "\n",
    "print(groundtruth_data.keys())\n"
   ]
  },
  {
   "cell_type": "code",
   "execution_count": 28,
   "metadata": {},
   "outputs": [
    {
     "data": {
      "text/plain": [
       "{'description': 'camera0',\n",
       " 'last_modified': 'Jan-08-2021 23:27:55',\n",
       " 'version': '1.0'}"
      ]
     },
     "execution_count": 28,
     "metadata": {},
     "output_type": "execute_result"
    }
   ],
   "source": [
    "groundtruth_data['metadata']"
   ]
  },
  {
   "cell_type": "code",
   "execution_count": 38,
   "metadata": {},
   "outputs": [
    {
     "name": "stdout",
     "output_type": "stream",
     "text": [
      "metadata: Dict with 3 keys. Showing first 3 keys: ['description', 'last_modified', 'version']\n",
      "samples: Dict with 1311 keys. Showing first 3 keys: ['673f29c3e4b4428fa26bc55d812d45d9', '63c5597a57b04b448723f1f1844a2b78', '00bb96a5a68f4fa5bc5c5dc66ce314d2']\n"
     ]
    }
   ],
   "source": [
    "for key, value in groundtruth_data.items():\n",
    "    if isinstance(value, dict):\n",
    "        print(f\"{key}: Dict with {len(value)} keys. Showing first 3 keys: {list(value.keys())[:3]}\")\n",
    "\n",
    "    elif isinstance(value, list):\n",
    "        first_elements = value[:2]  # Get the first 2 elements\n",
    "        print(f\"{key}: List with {len(value)} elements. First 3 elements: {first_elements}\")\n"
   ]
  },
  {
   "cell_type": "markdown",
   "metadata": {},
   "source": [
    "## Valid encounters"
   ]
  },
  {
   "cell_type": "code",
   "execution_count": 67,
   "metadata": {},
   "outputs": [
    {
     "name": "stdout",
     "output_type": "stream",
     "text": [
      "Fixed JSON file written to: /Users/renatoboemer/code/developer/aot-object-tracking-aws/raw_data/airborne_data/cleaned_valid_encounters.json\n"
     ]
    }
   ],
   "source": [
    "def fix_json_commas(file_path, output_path):\n",
    "    with open(file_path, 'r') as f:\n",
    "        lines = f.readlines()\n",
    "\n",
    "    with open(output_path, 'w') as f_out:\n",
    "        f_out.write('[\\n')  # Start array\n",
    "\n",
    "        inside_object = False  # Track whether we're inside an object\n",
    "        first_object = True    # Track the first object to avoid unnecessary commas\n",
    "\n",
    "        for line in lines:\n",
    "            stripped_line = line.strip()\n",
    "\n",
    "            # Detect start of an object\n",
    "            if stripped_line == '{':\n",
    "                if not first_object:\n",
    "                    f_out.write(',\\n')  # Add comma before starting a new object, but not for the first object\n",
    "                first_object = False\n",
    "                inside_object = True\n",
    "                f_out.write(line)\n",
    "\n",
    "            # Detect end of an object\n",
    "            elif stripped_line == '}':\n",
    "                inside_object = False\n",
    "                f_out.write(line)\n",
    "\n",
    "            # Skip lines that are just commas\n",
    "            elif stripped_line == ',':\n",
    "                continue\n",
    "\n",
    "            # Copy lines within the object directly\n",
    "            else:\n",
    "                f_out.write(line)\n",
    "\n",
    "        f_out.write('\\n]')  # End array\n",
    "\n",
    "# Example file paths\n",
    "input_file = os.path.join(dataset_folder, 'valid_encounters.json')\n",
    "output_file = os.path.join(dataset_folder, 'cleaned_valid_encounters.json')\n",
    "\n",
    "# Run the fix\n",
    "fix_json_commas(input_file, output_file)\n",
    "\n",
    "print(f\"Fixed JSON file written to: {output_file}\")"
   ]
  },
  {
   "cell_type": "code",
   "execution_count": 68,
   "metadata": {},
   "outputs": [
    {
     "name": "stdout",
     "output_type": "stream",
     "text": [
      "<class 'list'>\n",
      "879\n",
      "{'encounter_id': 0.0, 'flight_id': '0001ba865c8e410e88609541b8f55ffc', 'framemin': 229, 'framemax': 325, 'framecount': 97, 'enc_len_with_gaps': 97, 'is_above_horizon': -1.0, 'min_enc_range': 188.5532181915, 'max_enc_range': 698.0991541037, 'median_enc_range': 437.8502544826, 'mean_enc_range': 439.4182395796, 'img_name': ['15549773720667933040001ba865c8e410e88609541b8f55ffc.png', '15549773721671169930001ba865c8e410e88609541b8f55ffc.png', '15549773722724494270001ba865c8e410e88609541b8f55ffc.png', '15549773723943993760001ba865c8e410e88609541b8f55ffc.png', '15549773724669998190001ba865c8e410e88609541b8f55ffc.png', '15549773725845259780001ba865c8e410e88609541b8f55ffc.png', '15549773726991626310001ba865c8e410e88609541b8f55ffc.png', '15549773727668135120001ba865c8e410e88609541b8f55ffc.png', '15549773728666936070001ba865c8e410e88609541b8f55ffc.png', '15549773729765164320001ba865c8e410e88609541b8f55ffc.png', '15549773731063586990001ba865c8e410e88609541b8f55ffc.png', '15549773731873291450001ba865c8e410e88609541b8f55ffc.png', '15549773732671192150001ba865c8e410e88609541b8f55ffc.png', '15549773733812382940001ba865c8e410e88609541b8f55ffc.png', '15549773734669148730001ba865c8e410e88609541b8f55ffc.png', '15549773735670119560001ba865c8e410e88609541b8f55ffc.png', '15549773736893214340001ba865c8e410e88609541b8f55ffc.png', '15549773737663217210001ba865c8e410e88609541b8f55ffc.png', '15549773738640502870001ba865c8e410e88609541b8f55ffc.png', '15549773739917171990001ba865c8e410e88609541b8f55ffc.png', '15549773740641738520001ba865c8e410e88609541b8f55ffc.png', '15549773741645615880001ba865c8e410e88609541b8f55ffc.png', '15549773742667244180001ba865c8e410e88609541b8f55ffc.png', '15549773743980342800001ba865c8e410e88609541b8f55ffc.png', '15549773744661898720001ba865c8e410e88609541b8f55ffc.png', '15549773745685767550001ba865c8e410e88609541b8f55ffc.png', '15549773746688739120001ba865c8e410e88609541b8f55ffc.png', '15549773747670549540001ba865c8e410e88609541b8f55ffc.png', '15549773748692569860001ba865c8e410e88609541b8f55ffc.png', '15549773749693143320001ba865c8e410e88609541b8f55ffc.png', '15549773750699622840001ba865c8e410e88609541b8f55ffc.png', '15549773751992929120001ba865c8e410e88609541b8f55ffc.png', '15549773752654909240001ba865c8e410e88609541b8f55ffc.png', '15549773753652218970001ba865c8e410e88609541b8f55ffc.png', '15549773754733068740001ba865c8e410e88609541b8f55ffc.png', '15549773755707847120001ba865c8e410e88609541b8f55ffc.png', '15549773756881632230001ba865c8e410e88609541b8f55ffc.png', '15549773757640461950001ba865c8e410e88609541b8f55ffc.png', '15549773758896092030001ba865c8e410e88609541b8f55ffc.png', '15549773759639312960001ba865c8e410e88609541b8f55ffc.png', '15549773760752279090001ba865c8e410e88609541b8f55ffc.png', '15549773761663001270001ba865c8e410e88609541b8f55ffc.png', '15549773762907074400001ba865c8e410e88609541b8f55ffc.png', '15549773763643804030001ba865c8e410e88609541b8f55ffc.png', '15549773764714392120001ba865c8e410e88609541b8f55ffc.png', '15549773765898511380001ba865c8e410e88609541b8f55ffc.png', '15549773766648102480001ba865c8e410e88609541b8f55ffc.png', '15549773767654709940001ba865c8e410e88609541b8f55ffc.png', '15549773768776995310001ba865c8e410e88609541b8f55ffc.png', '15549773769647255940001ba865c8e410e88609541b8f55ffc.png', '15549773770963766390001ba865c8e410e88609541b8f55ffc.png', '15549773771829521230001ba865c8e410e88609541b8f55ffc.png', '15549773773118700890001ba865c8e410e88609541b8f55ffc.png', '15549773773634591190001ba865c8e410e88609541b8f55ffc.png', '15549773774907410060001ba865c8e410e88609541b8f55ffc.png', '15549773775638030800001ba865c8e410e88609541b8f55ffc.png', '15549773776950013660001ba865c8e410e88609541b8f55ffc.png', '15549773777901582660001ba865c8e410e88609541b8f55ffc.png', '15549773778612988920001ba865c8e410e88609541b8f55ffc.png', '15549773779710261060001ba865c8e410e88609541b8f55ffc.png', '15549773780927312900001ba865c8e410e88609541b8f55ffc.png', '15549773781634103470001ba865c8e410e88609541b8f55ffc.png', '15549773782985069670001ba865c8e410e88609541b8f55ffc.png', '15549773783630590960001ba865c8e410e88609541b8f55ffc.png', '15549773784910882610001ba865c8e410e88609541b8f55ffc.png', '15549773785633281480001ba865c8e410e88609541b8f55ffc.png', '15549773786947593740001ba865c8e410e88609541b8f55ffc.png', '15549773787628960420001ba865c8e410e88609541b8f55ffc.png', '15549773788636066300001ba865c8e410e88609541b8f55ffc.png', '15549773789795909490001ba865c8e410e88609541b8f55ffc.png', '15549773790898439710001ba865c8e410e88609541b8f55ffc.png', '15549773791627757670001ba865c8e410e88609541b8f55ffc.png', '15549773792906251510001ba865c8e410e88609541b8f55ffc.png', '15549773793773059600001ba865c8e410e88609541b8f55ffc.png', '15549773794626712050001ba865c8e410e88609541b8f55ffc.png', '15549773795607296290001ba865c8e410e88609541b8f55ffc.png', '15549773797084071650001ba865c8e410e88609541b8f55ffc.png', '15549773797728703190001ba865c8e410e88609541b8f55ffc.png', '15549773798609375750001ba865c8e410e88609541b8f55ffc.png', '15549773799629197650001ba865c8e410e88609541b8f55ffc.png', '15549773800606182800001ba865c8e410e88609541b8f55ffc.png', '15549773801600981960001ba865c8e410e88609541b8f55ffc.png', '15549773802689734810001ba865c8e410e88609541b8f55ffc.png', '15549773803618085440001ba865c8e410e88609541b8f55ffc.png', '15549773804624506870001ba865c8e410e88609541b8f55ffc.png', '15549773805650891940001ba865c8e410e88609541b8f55ffc.png', '15549773806908420270001ba865c8e410e88609541b8f55ffc.png', '15549773807780186010001ba865c8e410e88609541b8f55ffc.png', '15549773808642585840001ba865c8e410e88609541b8f55ffc.png', '15549773809819863300001ba865c8e410e88609541b8f55ffc.png', '15549773810611477450001ba865c8e410e88609541b8f55ffc.png', '15549773811922703760001ba865c8e410e88609541b8f55ffc.png', '15549773812868165280001ba865c8e410e88609541b8f55ffc.png', '15549773813620070120001ba865c8e410e88609541b8f55ffc.png', '15549773814833123260001ba865c8e410e88609541b8f55ffc.png', '15549773815996389770001ba865c8e410e88609541b8f55ffc.png', '15549773816591258730001ba865c8e410e88609541b8f55ffc.png']}\n"
     ]
    }
   ],
   "source": [
    "# load and inspect cleaned_valid_encounters\n",
    "valid_encounters_path = os.path.join(dataset_folder, 'cleaned_valid_encounters.json')\n",
    "with open(valid_encounters_path, 'r') as f:\n",
    "    valid_encounters_data = json.load(f)\n",
    "\n",
    "# Inspect the data\n",
    "print(type(valid_encounters_data))  # Check the type of the loaded data (should be a list)\n",
    "print(len(valid_encounters_data))   # Number of entries in the JSON array\n",
    "print(valid_encounters_data[0])"
   ]
  },
  {
   "cell_type": "code",
   "execution_count": 69,
   "metadata": {},
   "outputs": [
    {
     "data": {
      "text/plain": [
       "['0001ba865c8e410e88609541b8f55ffc',\n",
       " '0011f3f114a741b5b02326c9e96e597a',\n",
       " '0036dcc16c474b1abaf14d1735a7e1cf',\n",
       " '006345553ed64e77a52d94035e1e747a',\n",
       " '0071600242424070b5e0c8cb237192db']"
      ]
     },
     "execution_count": 69,
     "metadata": {},
     "output_type": "execute_result"
    }
   ],
   "source": [
    "flight_ids = [encounter['flight_id'] for encounter in valid_encounters_data]\n",
    "flight_ids[:5]"
   ]
  },
  {
   "cell_type": "code",
   "execution_count": null,
   "metadata": {},
   "outputs": [],
   "source": []
  }
 ],
 "metadata": {
  "kernelspec": {
   "display_name": "aot",
   "language": "python",
   "name": "python3"
  },
  "language_info": {
   "codemirror_mode": {
    "name": "ipython",
    "version": 3
   },
   "file_extension": ".py",
   "mimetype": "text/x-python",
   "name": "python",
   "nbconvert_exporter": "python",
   "pygments_lexer": "ipython3",
   "version": "3.11.3"
  }
 },
 "nbformat": 4,
 "nbformat_minor": 2
}
