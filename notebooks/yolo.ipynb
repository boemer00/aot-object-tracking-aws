{
 "cells": [
  {
   "cell_type": "code",
   "execution_count": 1,
   "metadata": {},
   "outputs": [
    {
     "name": "stdout",
     "output_type": "stream",
     "text": [
      "All imports successful\n"
     ]
    }
   ],
   "source": [
    "# standard library imports\n",
    "import os\n",
    "\n",
    "# third-party imports\n",
    "import boto3\n",
    "import cv2\n",
    "import matplotlib.pyplot as plt\n",
    "import numpy as np\n",
    "import pandas as pd\n",
    "import torch\n",
    "from botocore import UNSIGNED\n",
    "from botocore.config import Config\n",
    "from sklearn.model_selection import train_test_split\n",
    "print(\"All imports successful\")"
   ]
  },
  {
   "cell_type": "code",
   "execution_count": 15,
   "metadata": {},
   "outputs": [],
   "source": [
    "# initialise the S3 client\n",
    "s3 = boto3.client('s3', config=Config(signature_version=UNSIGNED))\n",
    "\n",
    "# local folder to save the data\n",
    "dataset_folder = '/Users/renatoboemer/code/developer/aot-object-tracking-aws/raw_data/airborne_data'\n",
    "images_folder = os.path.join('/Users/renatoboemer/code/developer/aot-object-tracking-aws/raw_data/airborne_images')\n",
    "\n",
    "# list the bucket contents\n",
    "bucket_name = 'airborne-obj-detection-challenge-training'\n",
    "prefix = 'part1/'\n",
    "result = s3.list_objects_v2(Bucket=bucket_name)"
   ]
  },
  {
   "cell_type": "code",
   "execution_count": 3,
   "metadata": {},
   "outputs": [],
   "source": [
    "gt_data = pd.read_csv(os.path.join(dataset_folder, 'groundtruth.csv'), index_col=0)"
   ]
  },
  {
   "cell_type": "code",
   "execution_count": 4,
   "metadata": {},
   "outputs": [],
   "source": [
    "label_mapping = {\n",
    "    'Airplane1': 'aircraft', 'Airplane2': 'aircraft', 'Airplane3': 'aircraft', 'Airplane4': 'aircraft',\n",
    "    'Airplane5': 'aircraft', 'Airplane6': 'aircraft', 'Airplane7': 'aircraft', 'Airplane8': 'aircraft',\n",
    "    'Airplane9': 'aircraft', 'Airplane10': 'aircraft',\n",
    "    'Helicopter1': 'helicopter', 'Helicopter2': 'helicopter', 'Helicopter3': 'helicopter',\n",
    "\n",
    "    'Bird1': 'bird', 'Bird2': 'bird', 'Bird3': 'bird', 'Bird4': 'bird', 'Bird5': 'bird',\n",
    "    'Bird6': 'bird', 'Bird7': 'bird', 'Bird8': 'bird', 'Bird9': 'bird', 'Bird10': 'bird',\n",
    "    'Bird11': 'bird', 'Bird12': 'bird', 'Bird13': 'bird', 'Bird14': 'bird', 'Bird15': 'bird',\n",
    "    'Bird16': 'bird', 'Bird17': 'bird', 'Bird18': 'bird', 'Bird19': 'bird', 'Bird20': 'bird',\n",
    "    'Bird21': 'bird', 'Bird22': 'bird', 'Bird23': 'bird', 'Bird24': 'bird', 'Bird25': 'bird',\n",
    "\n",
    "    'Airborne1': 'airborne', 'Airborne2': 'airborne', 'Airborne3': 'airborne', 'Airborne4': 'airborne',\n",
    "    'Airborne5': 'airborne', 'Airborne6': 'airborne', 'Airborne7': 'airborne', 'Airborne8': 'airborne',\n",
    "    'Airborne9': 'airborne', 'Airborne10': 'airborne', 'Airborne11': 'airborne', 'Airborne12': 'airborne',\n",
    "    'Airborne13': 'airborne', 'Airborne14': 'airborne', 'Airborne15': 'airborne', 'Airborne16': 'airborne',\n",
    "    'Airborne17': 'airborne', 'Airborne18': 'airborne', 'Airborne19': 'airborne',\n",
    "\n",
    "    'Drone1': 'drone',\n",
    "\n",
    "    'Flock1': 'flock', 'Flock2': 'flock', 'Flock3': 'flock'\n",
    "}\n"
   ]
  },
  {
   "cell_type": "code",
   "execution_count": 5,
   "metadata": {},
   "outputs": [],
   "source": [
    "gt_df = pd.read_csv(os.path.join(dataset_folder, 'groundtruth.csv'), index_col=0)\n",
    "\n",
    "gt_df['label'] = gt_df['id'].map(label_mapping).fillna('np.nan')\n",
    "\n",
    "class_id_mapping = {label: i for i, label in enumerate(gt_df['label'].unique())}"
   ]
  },
  {
   "cell_type": "code",
   "execution_count": 6,
   "metadata": {},
   "outputs": [
    {
     "data": {
      "text/plain": [
       "array(['np.nan', 'aircraft', 'helicopter', 'bird', 'airborne', 'drone',\n",
       "       'flock'], dtype=object)"
      ]
     },
     "execution_count": 6,
     "metadata": {},
     "output_type": "execute_result"
    }
   ],
   "source": [
    "gt_df['label'].unique()"
   ]
  },
  {
   "cell_type": "code",
   "execution_count": 7,
   "metadata": {},
   "outputs": [
    {
     "name": "stdout",
     "output_type": "stream",
     "text": [
      "<class 'pandas.core.frame.DataFrame'>\n",
      "Index: 1199 entries, 684441 to 685639\n",
      "Data columns (total 14 columns):\n",
      " #   Column            Non-Null Count  Dtype  \n",
      "---  ------            --------------  -----  \n",
      " 0   time              1199 non-null   int64  \n",
      " 1   flight_id         1199 non-null   object \n",
      " 2   img_name          1199 non-null   object \n",
      " 3   frame             1199 non-null   int64  \n",
      " 4   id                324 non-null    object \n",
      " 5   range_distance_m  324 non-null    float64\n",
      " 6   is_above_horizon  324 non-null    float64\n",
      " 7   size_width        1199 non-null   int64  \n",
      " 8   size_height       1199 non-null   int64  \n",
      " 9   gt_left           324 non-null    float64\n",
      " 10  gt_top            324 non-null    float64\n",
      " 11  gt_right          324 non-null    float64\n",
      " 12  gt_bottom         324 non-null    float64\n",
      " 13  label             1199 non-null   object \n",
      "dtypes: float64(6), int64(4), object(4)\n",
      "memory usage: 140.5+ KB\n"
     ]
    }
   ],
   "source": [
    "gt_yolo_df = gt_df[gt_df['flight_id'] == '0001ba865c8e410e88609541b8f55ffc']\n",
    "\n",
    "gt_yolo_df.info()"
   ]
  },
  {
   "cell_type": "code",
   "execution_count": 8,
   "metadata": {},
   "outputs": [
    {
     "data": {
      "text/plain": [
       "array(['helicopter', 'np.nan'], dtype=object)"
      ]
     },
     "execution_count": 8,
     "metadata": {},
     "output_type": "execute_result"
    }
   ],
   "source": [
    "gt_yolo_df['label'].unique()"
   ]
  },
  {
   "cell_type": "code",
   "execution_count": 12,
   "metadata": {},
   "outputs": [
    {
     "data": {
      "text/html": [
       "<div>\n",
       "<style scoped>\n",
       "    .dataframe tbody tr th:only-of-type {\n",
       "        vertical-align: middle;\n",
       "    }\n",
       "\n",
       "    .dataframe tbody tr th {\n",
       "        vertical-align: top;\n",
       "    }\n",
       "\n",
       "    .dataframe thead th {\n",
       "        text-align: right;\n",
       "    }\n",
       "</style>\n",
       "<table border=\"1\" class=\"dataframe\">\n",
       "  <thead>\n",
       "    <tr style=\"text-align: right;\">\n",
       "      <th></th>\n",
       "      <th>time</th>\n",
       "      <th>flight_id</th>\n",
       "      <th>img_name</th>\n",
       "      <th>frame</th>\n",
       "      <th>id</th>\n",
       "      <th>range_distance_m</th>\n",
       "      <th>is_above_horizon</th>\n",
       "      <th>size_width</th>\n",
       "      <th>size_height</th>\n",
       "      <th>gt_left</th>\n",
       "      <th>gt_top</th>\n",
       "      <th>gt_right</th>\n",
       "      <th>gt_bottom</th>\n",
       "      <th>label</th>\n",
       "    </tr>\n",
       "  </thead>\n",
       "  <tbody>\n",
       "    <tr>\n",
       "      <th>684441</th>\n",
       "      <td>1554977349382218834</td>\n",
       "      <td>0001ba865c8e410e88609541b8f55ffc</td>\n",
       "      <td>15549773493822188340001ba865c8e410e88609541b8f...</td>\n",
       "      <td>2</td>\n",
       "      <td>Helicopter1</td>\n",
       "      <td>1937.340022</td>\n",
       "      <td>-1.0</td>\n",
       "      <td>2448</td>\n",
       "      <td>2048</td>\n",
       "      <td>1453.744186</td>\n",
       "      <td>1067.465116</td>\n",
       "      <td>1459.744186</td>\n",
       "      <td>1073.465116</td>\n",
       "      <td>helicopter</td>\n",
       "    </tr>\n",
       "    <tr>\n",
       "      <th>684442</th>\n",
       "      <td>1554977349483260352</td>\n",
       "      <td>0001ba865c8e410e88609541b8f55ffc</td>\n",
       "      <td>15549773494832603520001ba865c8e410e88609541b8f...</td>\n",
       "      <td>3</td>\n",
       "      <td>Helicopter1</td>\n",
       "      <td>1931.863012</td>\n",
       "      <td>-1.0</td>\n",
       "      <td>2448</td>\n",
       "      <td>2048</td>\n",
       "      <td>1455.604651</td>\n",
       "      <td>1063.976744</td>\n",
       "      <td>1461.604651</td>\n",
       "      <td>1069.976744</td>\n",
       "      <td>helicopter</td>\n",
       "    </tr>\n",
       "    <tr>\n",
       "      <th>684443</th>\n",
       "      <td>1554977349588710305</td>\n",
       "      <td>0001ba865c8e410e88609541b8f55ffc</td>\n",
       "      <td>15549773495887103050001ba865c8e410e88609541b8f...</td>\n",
       "      <td>4</td>\n",
       "      <td>Helicopter1</td>\n",
       "      <td>1926.277939</td>\n",
       "      <td>-1.0</td>\n",
       "      <td>2448</td>\n",
       "      <td>2048</td>\n",
       "      <td>1459.325581</td>\n",
       "      <td>1062.116279</td>\n",
       "      <td>1465.325581</td>\n",
       "      <td>1068.116279</td>\n",
       "      <td>helicopter</td>\n",
       "    </tr>\n",
       "    <tr>\n",
       "      <th>684444</th>\n",
       "      <td>1554977349721609076</td>\n",
       "      <td>0001ba865c8e410e88609541b8f55ffc</td>\n",
       "      <td>15549773497216090760001ba865c8e410e88609541b8f...</td>\n",
       "      <td>5</td>\n",
       "      <td>Helicopter1</td>\n",
       "      <td>1920.795038</td>\n",
       "      <td>-1.0</td>\n",
       "      <td>2448</td>\n",
       "      <td>2048</td>\n",
       "      <td>1464.674419</td>\n",
       "      <td>1066.534884</td>\n",
       "      <td>1470.674419</td>\n",
       "      <td>1072.534884</td>\n",
       "      <td>helicopter</td>\n",
       "    </tr>\n",
       "    <tr>\n",
       "      <th>684445</th>\n",
       "      <td>1554977349781159117</td>\n",
       "      <td>0001ba865c8e410e88609541b8f55ffc</td>\n",
       "      <td>15549773497811591170001ba865c8e410e88609541b8f...</td>\n",
       "      <td>6</td>\n",
       "      <td>Helicopter1</td>\n",
       "      <td>1915.321955</td>\n",
       "      <td>-1.0</td>\n",
       "      <td>2448</td>\n",
       "      <td>2048</td>\n",
       "      <td>1468.395349</td>\n",
       "      <td>1059.558140</td>\n",
       "      <td>1474.395349</td>\n",
       "      <td>1065.558140</td>\n",
       "      <td>helicopter</td>\n",
       "    </tr>\n",
       "  </tbody>\n",
       "</table>\n",
       "</div>"
      ],
      "text/plain": [
       "                       time                         flight_id  \\\n",
       "684441  1554977349382218834  0001ba865c8e410e88609541b8f55ffc   \n",
       "684442  1554977349483260352  0001ba865c8e410e88609541b8f55ffc   \n",
       "684443  1554977349588710305  0001ba865c8e410e88609541b8f55ffc   \n",
       "684444  1554977349721609076  0001ba865c8e410e88609541b8f55ffc   \n",
       "684445  1554977349781159117  0001ba865c8e410e88609541b8f55ffc   \n",
       "\n",
       "                                                 img_name  frame           id  \\\n",
       "684441  15549773493822188340001ba865c8e410e88609541b8f...      2  Helicopter1   \n",
       "684442  15549773494832603520001ba865c8e410e88609541b8f...      3  Helicopter1   \n",
       "684443  15549773495887103050001ba865c8e410e88609541b8f...      4  Helicopter1   \n",
       "684444  15549773497216090760001ba865c8e410e88609541b8f...      5  Helicopter1   \n",
       "684445  15549773497811591170001ba865c8e410e88609541b8f...      6  Helicopter1   \n",
       "\n",
       "        range_distance_m  is_above_horizon  size_width  size_height  \\\n",
       "684441       1937.340022              -1.0        2448         2048   \n",
       "684442       1931.863012              -1.0        2448         2048   \n",
       "684443       1926.277939              -1.0        2448         2048   \n",
       "684444       1920.795038              -1.0        2448         2048   \n",
       "684445       1915.321955              -1.0        2448         2048   \n",
       "\n",
       "            gt_left       gt_top     gt_right    gt_bottom       label  \n",
       "684441  1453.744186  1067.465116  1459.744186  1073.465116  helicopter  \n",
       "684442  1455.604651  1063.976744  1461.604651  1069.976744  helicopter  \n",
       "684443  1459.325581  1062.116279  1465.325581  1068.116279  helicopter  \n",
       "684444  1464.674419  1066.534884  1470.674419  1072.534884  helicopter  \n",
       "684445  1468.395349  1059.558140  1474.395349  1065.558140  helicopter  "
      ]
     },
     "execution_count": 12,
     "metadata": {},
     "output_type": "execute_result"
    }
   ],
   "source": [
    "gt_yolo_df.head()"
   ]
  },
  {
   "cell_type": "code",
   "execution_count": 34,
   "metadata": {},
   "outputs": [
    {
     "name": "stdout",
     "output_type": "stream",
     "text": [
      "YOLO annotations saved successfully!\n"
     ]
    }
   ],
   "source": [
    "# load the dataframe\n",
    "df = gt_yolo_df.copy()  # using the dataframe provided\n",
    "\n",
    "# create a dictionary to map class labels to class IDs\n",
    "class_mapping = {'helicopter': 0}\n",
    "\n",
    "# directory to save YOLO annotations\n",
    "yolo_annotations_dir = 'annotations'\n",
    "os.makedirs(yolo_annotations_dir, exist_ok=True)\n",
    "\n",
    "# loop through each row in the dataframe and create YOLO annotation files\n",
    "for row in df.itertuples(index=False):\n",
    "    # extract image information\n",
    "    img_name = row.img_name\n",
    "    img_width = row.size_width\n",
    "    img_height = row.size_height\n",
    "\n",
    "    # extract bounding box coordinates\n",
    "    gt_left = row.gt_left\n",
    "    gt_top = row.gt_top\n",
    "    gt_right = row.gt_right\n",
    "    gt_bottom = row.gt_bottom\n",
    "\n",
    "    # calculate YOLO format values\n",
    "    x_center = (gt_left + gt_right) / 2.0 / img_width\n",
    "    y_center = (gt_top + gt_bottom) / 2.0 / img_height\n",
    "    bbox_width = (gt_right - gt_left) / img_width\n",
    "    bbox_height = (gt_bottom - gt_top) / img_height\n",
    "\n",
    "    # get the class ID, handle missing labels\n",
    "    label = row.label\n",
    "    if pd.isna(label) or label not in class_mapping:\n",
    "        continue\n",
    "    class_id = class_mapping[label]\n",
    "\n",
    "    # create YOLO annotation line\n",
    "    yolo_annotation = f\"{class_id} {x_center:.6f} {y_center:.6f} {bbox_width:.6f} {bbox_height:.6f}\\n\"\n",
    "\n",
    "    # save to a text file (one text file per image)\n",
    "    img_name_base = os.path.splitext(img_name)[0]\n",
    "    annotation_file = os.path.join(yolo_annotations_dir, f\"{img_name_base}.txt\")\n",
    "    with open(annotation_file, 'a') as f:  # using 'a' to append instead of 'w' for multiple objects per image\n",
    "        f.write(yolo_annotation)\n",
    "\n",
    "print(\"YOLO annotations saved successfully!\")\n"
   ]
  },
  {
   "cell_type": "code",
   "execution_count": 40,
   "metadata": {},
   "outputs": [],
   "source": [
    "import os\n",
    "import shutil\n",
    "import random\n",
    "from sklearn.model_selection import train_test_split\n",
    "\n",
    "# Paths\n",
    "root_dir = os.path.dirname(os.getcwd())\n",
    "image_dir = os.path.join(root_dir, 'images')\n",
    "annotation_dir = os.path.join(root_dir, 'annotations')\n",
    "output_dir= os.path.join(root_dir, 'dataset_split')\n"
   ]
  },
  {
   "cell_type": "code",
   "execution_count": 41,
   "metadata": {},
   "outputs": [
    {
     "name": "stdout",
     "output_type": "stream",
     "text": [
      "Warning: 612 images were expected to have annotations but did not (likely no helicopter).\n",
      "Warning: 175 images were expected to have annotations but did not (likely no helicopter).\n",
      "Warning: 88 images were expected to have annotations but did not (likely no helicopter).\n",
      "Data split and copied successfully into 'split' directory.\n"
     ]
    }
   ],
   "source": [
    "# Get list of annotated images (helicopter-present images)\n",
    "annotated_images = {f.replace('.txt', '.png') for f in os.listdir(annotation_dir) if f.endswith('.txt')}\n",
    "all_images = {f for f in os.listdir(image_dir) if f.endswith('.png')}\n",
    "\n",
    "# Determine images without annotations (helicopter-absent images)\n",
    "non_annotated_images = list(all_images - annotated_images)\n",
    "annotated_images = list(annotated_images)  # Convert to list for easier handling\n",
    "\n",
    "# Split Parameters\n",
    "train_ratio, val_ratio, test_ratio = 0.7, 0.2, 0.1\n",
    "\n",
    "# Total number of positive and negative samples\n",
    "total_positives = len(annotated_images)\n",
    "total_negatives = len(non_annotated_images)\n",
    "\n",
    "# Desired number of positive and negative samples for each split\n",
    "train_positives = int(train_ratio * total_positives)\n",
    "val_positives = int(val_ratio * total_positives)\n",
    "test_positives = total_positives - train_positives - val_positives\n",
    "\n",
    "train_negatives = int(train_ratio * total_negatives)\n",
    "val_negatives = int(val_ratio * total_negatives)\n",
    "test_negatives = total_negatives - train_negatives - val_negatives\n",
    "\n",
    "# Split annotated images (helicopter present)\n",
    "train_anno, remaining_anno = train_test_split(annotated_images, train_size=train_positives, random_state=42)\n",
    "val_anno, test_anno = train_test_split(remaining_anno, train_size=val_positives, random_state=42)\n",
    "\n",
    "# Split non-annotated images (helicopter absent)\n",
    "train_non_anno, remaining_non_anno = train_test_split(non_annotated_images, train_size=train_negatives, random_state=42)\n",
    "val_non_anno, test_non_anno = train_test_split(remaining_non_anno, train_size=val_negatives, random_state=42)\n",
    "\n",
    "# Combine for each set while maintaining the 27% positive, 73% negative ratio\n",
    "train_images = train_anno + train_non_anno\n",
    "val_images = val_anno + val_non_anno\n",
    "test_images = test_anno + test_non_anno\n",
    "\n",
    "# Shuffle each set to ensure randomness\n",
    "random.shuffle(train_images)\n",
    "random.shuffle(val_images)\n",
    "random.shuffle(test_images)\n",
    "\n",
    "# Output Directory Structure\n",
    "output_dirs = {\n",
    "    'train': 'split/train/images/',\n",
    "    'val': 'split/val/images/',\n",
    "    'test': 'split/test/images/',\n",
    "    'train_anno': 'split/train/labels/',\n",
    "    'val_anno': 'split/val/labels/',\n",
    "    'test_anno': 'split/test/labels/'\n",
    "}\n",
    "\n",
    "# Create directories if they don't exist\n",
    "for dir_path in output_dirs.values():\n",
    "    os.makedirs(dir_path, exist_ok=True)\n",
    "\n",
    "# Function to copy images and annotations\n",
    "def copy_files(image_list, dest_img_dir, dest_anno_dir):\n",
    "    missing_annotations = []\n",
    "    for img_file in image_list:\n",
    "        # Copy image file\n",
    "        shutil.copy(os.path.join(image_dir, img_file), dest_img_dir)\n",
    "\n",
    "        # Copy annotation if it exists\n",
    "        anno_file = img_file.replace('.png', '.txt')\n",
    "        anno_path = os.path.join(annotation_dir, anno_file)\n",
    "        if os.path.exists(anno_path):\n",
    "            shutil.copy(anno_path, dest_anno_dir)\n",
    "        else:\n",
    "            # Log missing annotations for inspection (these are negative samples)\n",
    "            missing_annotations.append(img_file)\n",
    "\n",
    "    if missing_annotations:\n",
    "        print(f\"Warning: {len(missing_annotations)} images were expected to have annotations but did not (likely no helicopter).\")\n",
    "    else:\n",
    "        print(\"All expected annotations were found and copied successfully.\")\n",
    "\n",
    "# Copy files to respective folders\n",
    "copy_files(train_images, output_dirs['train'], output_dirs['train_anno'])\n",
    "copy_files(val_images, output_dirs['val'], output_dirs['val_anno'])\n",
    "copy_files(test_images, output_dirs['test'], output_dirs['test_anno'])\n",
    "\n",
    "print(\"Data split and copied successfully into 'split' directory.\")\n"
   ]
  },
  {
   "cell_type": "code",
   "execution_count": null,
   "metadata": {},
   "outputs": [],
   "source": []
  }
 ],
 "metadata": {
  "kernelspec": {
   "display_name": "airborne",
   "language": "python",
   "name": "python3"
  },
  "language_info": {
   "codemirror_mode": {
    "name": "ipython",
    "version": 3
   },
   "file_extension": ".py",
   "mimetype": "text/x-python",
   "name": "python",
   "nbconvert_exporter": "python",
   "pygments_lexer": "ipython3",
   "version": "3.10.6"
  }
 },
 "nbformat": 4,
 "nbformat_minor": 2
}
